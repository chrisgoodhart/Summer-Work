{
 "cells": [
  {
   "cell_type": "markdown",
   "metadata": {},
   "source": [
    "### Chapter 11. Files\n",
    "\n",
    "#### Exercise 3\n",
    "\n",
    "Using the text file studentdata.txt (shown in exercise 1) write a program that calculates the minimum and maximum score for each student. Print out their name as well.\n",
    "\n",
    "studentdata.txt:\n",
    "\n",
    "joe 10 15 20 30 40  \n",
    "bill 23 16 19 22  \n",
    "sue 8 22 17 14 32 17 24 21 2 9 11 17  \n",
    "grace 12 28 21 45 26 10  \n",
    "john 14 32 25 16 89  \n"
   ]
  },
  {
   "cell_type": "code",
   "execution_count": null,
   "metadata": {},
   "outputs": [],
   "source": [
    "#Exercise 3\n",
    "\n",
    "file = open('studentdata.txt', 'r')\n",
    "\n",
    "for line in file:\n",
    "    w = line.split()\n",
    "    name = w[0]\n",
    "    min = int(w[1])\n",
    "    max = int(w[1])\n",
    "    for i in range(len(w[1:])):\n",
    "        if int(w[i+1]) > max:\n",
    "            max = int(w[i+1])\n",
    "        if int(w[i+1]) < min:\n",
    "            min = int(w[i+1])\n",
    "    print(name, \"Min score: \", min, \"Max score: \", max)\n"
   ]
  },
  {
   "cell_type": "markdown",
   "metadata": {},
   "source": [
    "### Chapter 11. Files\n",
    "\n",
    "#### Exercise 5\n",
    "\n",
    "At the bottom of this page is a very long file called mystery.txt The lines of this file contain either the word UP or DOWN or a pair of numbers. UP and DOWN are instructions for a turtle to lift up or put down its tail. The pairs of numbers are some x,y coordinates. Write a program that reads the file mystery.txt and uses the turtle to draw the picture described by the commands and the set of points."
   ]
  },
  {
   "cell_type": "code",
   "execution_count": null,
   "metadata": {},
   "outputs": [],
   "source": [
    "#Exercise 5\n",
    "\n",
    "#imports the turtle module\n",
    "import turtle\n",
    "\n",
    "#instantiates the window and turtle\n",
    "t = turtle.Turtle()\n",
    "wn = turtle.Screen()\n",
    "wn.setworldcoordinates(-400, -400, 400, 400)\n",
    "\n",
    "#reads the mystery.txt file\n",
    "f = open(\"mystery.txt\", \"r\")\n",
    "\n",
    "#reads each line in the file\n",
    "for line in f:\n",
    "    w = line.split()\n",
    "    if w[0] == \"UP\":\n",
    "        turtle.up()\n",
    "    elif w[0] == \"DOWN\":\n",
    "        turtle.down()\n",
    "    else:\n",
    "        turtle.goto(int(w[0]), int(w[1]))\n",
    "f.close()"
   ]
  },
  {
   "cell_type": "markdown",
   "metadata": {},
   "source": [
    "### Chapter 12. Dictionaries\n",
    "\n",
    "#### Exercise 1\n",
    "\n",
    "Write a program that allows the user to enter a string. It then prints a table of the letters of the alphabet in alphabetical order which occur in the string together with the number of times each letter occurs. Case should be ignored. A sample run of the program might look this this:\n",
    "\n",
    "Please enter a sentence: ThiS is String with Upper and lower case Letters.\n",
    "a  2  \n",
    "c  1  \n",
    "d  1  \n",
    "e  5  \n",
    "g  1  \n",
    "h  2  \n",
    "i  4  \n",
    "l  2  \n",
    "n  2  \n",
    "o  1  \n",
    "p  2  \n",
    "r  4  \n",
    "s  5  \n",
    "t  5  \n",
    "u  1  \n",
    "w  2  "
   ]
  },
  {
   "cell_type": "code",
   "execution_count": null,
   "metadata": {},
   "outputs": [],
   "source": [
    "#Exercise 1\n",
    "\n",
    "#gets the user's sentence, prints it, and converts it to lowercase\n",
    "s = input(\"Please enter a sentence: \")\n",
    "print(s)\n",
    "s = s.lower()\n",
    "\n",
    "#creates a string with all the alphabetical characters\n",
    "alphabet = \"abcdefghijklmnopqrstuvwxyz\"\n",
    "\n",
    "#creates the dictionary that will contain each letter and its count\n",
    "c = {}\n",
    "\n",
    "#for each character in the sentence, adds 1 to its count in the dictionary\n",
    "for char in s:\n",
    "    if char in alphabet:\n",
    "        if char in c:\n",
    "            c[char] = c[char] + 1\n",
    "        else:\n",
    "            c[char] = 1\n",
    "#prints the sorted keys and their counts\n",
    "k = c.keys()\n",
    "for a in sorted(k):\n",
    "    print(a, c[a])\n"
   ]
  },
  {
   "cell_type": "markdown",
   "metadata": {},
   "source": [
    "### Chapter 12. Dictionaries\n",
    "\n",
    "#### Exercise 5\n",
    "\n",
    "Here’s a table of English to Pirate translations\n",
    "\n",
    "English\tPirate  \n",
    "sir\tmatey  \n",
    "hotel\tfleabag inn  \n",
    "student\tswabbie  \n",
    "boy\tmatey  \n",
    "madam\tproud beauty  \n",
    "professor\tfoul blaggart  \n",
    "restaurant\tgalley  \n",
    "your\tyer  \n",
    "excuse\tarr  \n",
    "students\tswabbies  \n",
    "are\tbe  \n",
    "lawyer\tfoul blaggart  \n",
    "the\tth’  \n",
    "restroom\thead  \n",
    "my\tme  \n",
    "hello\tavast  \n",
    "is\tbe  \n",
    "man\tmatey  \n",
    "Write a program that asks the user for a sentence in English and then translates that sentence to Pirate."
   ]
  },
  {
   "cell_type": "code",
   "execution_count": 1,
   "metadata": {},
   "outputs": [
    {
     "name": "stdout",
     "output_type": "stream",
     "text": [
      "Please enter a sentence.hello sir, i am taking my students to the bathroom\n",
      "avast sir, i am taking me swabbies to th' bathroom\n"
     ]
    }
   ],
   "source": [
    "#Exercise 5\n",
    "\n",
    "#creates the dictionary of pirate speak\n",
    "pirate = {}\n",
    "pirate['sir'] = 'matey'\n",
    "pirate['hotel'] = 'fleabag inn'\n",
    "pirate['student'] = 'swabbie'\n",
    "pirate['boy'] = 'matey'\n",
    "pirate['madam'] = 'proud beauty'\n",
    "pirate['professor'] = 'foul blaggart'\n",
    "pirate['restaurant'] = 'galley'\n",
    "pirate['your'] = 'yer'\n",
    "pirate['excuse'] = 'arr'\n",
    "pirate['students'] = 'swabbies'\n",
    "pirate['are'] = 'be'\n",
    "pirate['lawyer'] = 'foul blaggart'\n",
    "pirate['the'] = \"th'\"\n",
    "pirate['restroom'] = 'head'\n",
    "pirate['my'] = 'me'\n",
    "pirate['hello'] = 'avast'\n",
    "pirate['is'] = 'be'\n",
    "pirate['man'] = 'matey'\n",
    "\n",
    "#gets the user's sentence and splits it into words\n",
    "s = input('Please enter a sentence.')\n",
    "p = []\n",
    "q = s.split()\n",
    "t = False\n",
    "\n",
    "#checks each word in the sentence to see if it has a corresponding word in pirate\n",
    "for word in q:\n",
    "    for key in pirate:\n",
    "        if word == key:\n",
    "            p.append(pirate[word])\n",
    "            t = True\n",
    "    if not t:\n",
    "            p.append(word)\n",
    "    t = False\n",
    "        \n",
    "            \n",
    "print(' '.join(p))"
   ]
  },
  {
   "cell_type": "markdown",
   "metadata": {},
   "source": [
    "### Chapter 13. Exceptions\n",
    "\n",
    "There were no exercises for this chapter."
   ]
  },
  {
   "cell_type": "markdown",
   "metadata": {},
   "source": [
    "### Chapter 14. GUI and Event Driven Programming\n",
    "\n",
    "There were no exercises for this chapter."
   ]
  }
 ],
 "metadata": {
  "kernelspec": {
   "display_name": "Python 3",
   "language": "python",
   "name": "python3"
  },
  "language_info": {
   "codemirror_mode": {
    "name": "ipython",
    "version": 3
   },
   "file_extension": ".py",
   "mimetype": "text/x-python",
   "name": "python",
   "nbconvert_exporter": "python",
   "pygments_lexer": "ipython3",
   "version": "3.6.5"
  }
 },
 "nbformat": 4,
 "nbformat_minor": 2
}
