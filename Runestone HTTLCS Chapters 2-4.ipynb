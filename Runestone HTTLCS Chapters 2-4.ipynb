{
 "cells": [
  {
   "cell_type": "markdown",
   "metadata": {},
   "source": [
    "### Chapter 2. Simple Python Data\n",
    "\n",
    "#### Exercise #5\n",
    "\n",
    "Take the sentence: All work and no play makes Jack a dull boy. Store each word in a separate variable, then print out the sentence on one line using print."
   ]
  },
  {
   "cell_type": "code",
   "execution_count": 1,
   "metadata": {},
   "outputs": [
    {
     "name": "stdout",
     "output_type": "stream",
     "text": [
      "All work and no play makes Jack a dull boy.\n"
     ]
    }
   ],
   "source": [
    "#Exercise 5\n",
    "\n",
    "#Stores each word in a separate variable\n",
    "a = \"All\"\n",
    "b = \"work\"\n",
    "c = \"and\"\n",
    "d = \"no\"\n",
    "e = \"play\"\n",
    "f = \"makes\"\n",
    "g = \"Jack\"\n",
    "h = \"a\"\n",
    "i = \"dull\"\n",
    "j = \"boy.\"\n",
    "\n",
    "#Prints the variables on the same line\n",
    "print(a, b, c, d, e, f, g, h, i, j)"
   ]
  },
  {
   "attachments": {
    "compoundInterest.png": {
     "image/png": "[encoded data removed]"
    }
   },
   "cell_type": "markdown",
   "metadata": {},
   "source": [
    "### Chapter 2. Simple Python Data\n",
    "\n",
    "#### Exercise #7\n",
    "\n",
    "The formula for computing the final amount if one is earning compound interest is given on Wikipedia as![compoundInterest.png](attachment:compoundInterest.png)\n",
    "\n",
    "formula for compound interest\n",
    "Write a Python program that assigns the principal amount of 10000 to variable P, assign to n the value 12, and assign to r the interest rate of 8% (0.08). Then have the program prompt the user for the number of years, t, that the money will be compounded for. Calculate and print the final amount after t years."
   ]
  },
  {
   "cell_type": "code",
   "execution_count": 2,
   "metadata": {},
   "outputs": [
    {
     "name": "stdout",
     "output_type": "stream",
     "text": [
      "How many years?4\n",
      "4\n",
      "13756.6610043379\n"
     ]
    }
   ],
   "source": [
    "#Exercise 7\n",
    "\n",
    "#Assigns correct amounts to variables\n",
    "P = 10000\n",
    "n = 12\n",
    "r = .08\n",
    "\n",
    "#Prompts for the number of years\n",
    "t = int(input(\"How many years?\"))\n",
    "\n",
    "#Prints the number of years\n",
    "print(t)\n",
    "\n",
    "#Calculates and prints the final amount of money\n",
    "a = P*(1 + r / n) ** (n * t)\n",
    "print(a)"
   ]
  },
  {
   "cell_type": "markdown",
   "metadata": {},
   "source": [
    "### 3. Debugging Interlude 1\n",
    "\n",
    "There were no exercises for this chapter."
   ]
  },
  {
   "attachments": {
    "tess_clock1.png": {
     "image/png": "[encoded data removed]"
    }
   },
   "cell_type": "markdown",
   "metadata": {},
   "source": [
    "### 4. Python Turtle Graphics\n",
    "\n",
    "#### Exercise #10\n",
    "\n",
    "Write a program to draw a face of a clock that looks something like this:\n",
    "\n",
    "![tess_clock1.png](attachment:tess_clock1.png)\n"
   ]
  },
  {
   "cell_type": "code",
   "execution_count": 1,
   "metadata": {},
   "outputs": [],
   "source": [
    "#Exercise 10\n",
    "\n",
    "#Imports the \"turtle\" module\n",
    "import turtle\n",
    "\n",
    "#Instantiates the window and turtle\n",
    "wn = turtle.Screen()\n",
    "bob = turtle.Turtle()\n",
    "\n",
    "#Sets the color of and shape of the turtle and window\n",
    "wn.bgcolor(\"lightgreen\")\n",
    "bob.color(\"blue\")\n",
    "bob.shape(\"turtle\")\n",
    "\n",
    "#Marks the turtle's shape in the center of the clock, then lifts the pen to prepare to move\n",
    "bob.stamp()\n",
    "bob.penup()\n",
    "\n",
    "#Runs the turtle's movement 12 times to create the clock\n",
    "for i in range(12):\n",
    "    bob.forward(80)\n",
    "    bob.pendown()\n",
    "    bob.forward(10)\n",
    "    bob.penup()\n",
    "    bob.forward(10)\n",
    "    bob.stamp()\n",
    "    bob.forward(-100)\n",
    "    bob.right(30)"
   ]
  },
  {
   "cell_type": "markdown",
   "metadata": {},
   "source": [
    "### 4. Python Turtle Graphics\n",
    "\n",
    "#### Exercise #13\n",
    "\n",
    "A sprite is a simple spider shaped thing with n legs coming out from a center point. The angle between each leg is 360 / n degrees.\n",
    "\n",
    "Write a program to draw a sprite where the number of legs is provided by the user."
   ]
  },
  {
   "cell_type": "code",
   "execution_count": 1,
   "metadata": {},
   "outputs": [
    {
     "name": "stdout",
     "output_type": "stream",
     "text": [
      "How many legs does the spider have?8\n"
     ]
    }
   ],
   "source": [
    "#Exercise 13\n",
    "\n",
    "#Imports the turtle module\n",
    "import turtle\n",
    "\n",
    "#Instantiates the window and turtle\n",
    "wn = turtle.Screen()\n",
    "bob = turtle.Turtle()\n",
    "\n",
    "#Prompts the user for the number of legs on the spider\n",
    "x = int(input(\"How many legs does the spider have?\"))\n",
    "\n",
    "#Draws the spider\n",
    "for i in range(x):\n",
    "    bob.forward(50)\n",
    "    bob.stamp()\n",
    "    bob.forward(-50)\n",
    "    bob.left(360/x)\n",
    "\n",
    "#Stamps a circle in the center\n",
    "bob.shape(\"circle\")\n",
    "bob.stamp()\n",
    "\n",
    "#Hides the turtle\n",
    "bob.hideturtle()"
   ]
  }
 ],
 "metadata": {
  "kernelspec": {
   "display_name": "Python 3",
   "language": "python",
   "name": "python3"
  },
  "language_info": {
   "codemirror_mode": {
    "name": "ipython",
    "version": 3
   },
   "file_extension": ".py",
   "mimetype": "text/x-python",
   "name": "python",
   "nbconvert_exporter": "python",
   "pygments_lexer": "ipython3",
   "version": "3.6.5"
  }
 },
 "nbformat": 4,
 "nbformat_minor": 2
}
